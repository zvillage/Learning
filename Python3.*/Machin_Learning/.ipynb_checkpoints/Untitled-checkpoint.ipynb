{
 "cells": [
  {
   "cell_type": "markdown",
   "metadata": {},
   "source": [
    "## Perceptronとは\n",
    "\n",
    "パーセプトロンとは、複数の信号を入力として受け取り、一つの信号を出すもの。\n",
    "\n",
    "例えば、インプットの組$\\{x_{1},x_{2}\\}$に対して、出力$y$を返すパーセプトロンを考える。\n",
    "$$\n",
    "y=\\begin{cases}\n",
    "0&& (w_{1}x_{1}+w_{2}x_{2}\\leq \\theta)\\\\\n",
    "1&& (w_{1}x_{1}+w_{2}x_{2}>\\theta)\n",
    "\\end{cases}\n",
    "$$\n",
    "\n",
    "ただし、ここで$w_{i}$は重みである。\n",
    "\n"
   ]
  },
  {
   "cell_type": "markdown",
   "metadata": {},
   "source": [
    "### Perceptron の例: AND, NAND, OR\n",
    "\n",
    "```python\n",
    "(w1,w2,theta)=(0.5,0.5,0.5<=t<1) -> AND\n",
    "(w1,w2,theta)=(-0.5,-0.5,-1.<t<0) -> NAND\n",
    "(w1,w2,theta)=(0.5,0.5,0.<=t<.5) -> OR\n",
    "```\n"
   ]
  },
  {
   "cell_type": "code",
   "execution_count": 19,
   "metadata": {},
   "outputs": [
    {
     "name": "stdout",
     "output_type": "stream",
     "text": [
      "x1:   0    x2:   0   retrun: 1\n",
      "x1:   0    x2:   1   retrun: 1\n",
      "x1:   1    x2:   0   retrun: 1\n",
      "x1:   1    x2:   1   retrun: 1\n"
     ]
    }
   ],
   "source": [
    "def Logical(x1,x2,w1=.5,w2=.5,theta=.7):\n",
    "    \n",
    "    val = x1*w1+x2*w1\n",
    "    if val >theta:\n",
    "        return 1\n",
    "    elif val <=theta:\n",
    "        return 0\n",
    "\n",
    "w1,w2,theta=-.5,-.5,-2\n",
    "for x1 in [0,1]:\n",
    "    for x2 in [0,1]:\n",
    "        print('x1:  ',x1,'   x2:  ',x2,'  retrun:',  AND(x1,x2,w1,w2,theta))\n",
    "\n",
    "    "
   ]
  },
  {
   "cell_type": "markdown",
   "metadata": {},
   "source": [
    "## 重みとバイアスの導入\n",
    "\n",
    "$\\theta=-b$とすると、以下のように読み替えられる。\n",
    "\n",
    "$$\n",
    "y=\\begin{cases}\n",
    "0&& (b+w_{1}x_{1}+w_{2}x_{2}\\leq 0)\\\\\n",
    "1&& (b+w_{1}x_{1}+w_{2}x_{2}>0)\n",
    "\\end{cases}\n",
    "$$\n",
    "$\\theta$によって発火具合がコントロールされていたが、「バイアス」$b$によってコントロールされる形になった。\n"
   ]
  },
  {
   "cell_type": "code",
   "execution_count": 40,
   "metadata": {},
   "outputs": [
    {
     "name": "stdout",
     "output_type": "stream",
     "text": [
      "x1:   0    x2:   0   retrun: 1\n",
      "x1:   0    x2:   1   retrun: 1\n",
      "x1:   1    x2:   0   retrun: 1\n",
      "x1:   1    x2:   1   retrun: 1\n"
     ]
    }
   ],
   "source": [
    "def Logical(x1,x2,w1=.5,w2=.5,b=-.7):\n",
    "    \n",
    "    val = x1*w1+x2*w1+b\n",
    "    if val >0:\n",
    "        return 1\n",
    "    elif val <=0:\n",
    "        return 0\n",
    "\n",
    "w1,w2,theta=.5,.5,.49\n",
    "for x1 in [0,1]:\n",
    "    for x2 in [0,1]:\n",
    "        print('x1:  ',x1,'   x2:  ',x2,'  retrun:',  Logical(x1,x2,w1,w2,theta))"
   ]
  },
  {
   "cell_type": "markdown",
   "metadata": {},
   "source": [
    "## XOR Gate\n",
    "単純パーセプトロンでは表現できない\n",
    "多段のパーセプトロンで行う必要がある。\n",
    "\n",
    "理由は、下記図のように図でXORを記述すればわかる。\n",
    "'+'は１，'x'は０になり、この２つの領域を直線で分割する必要がある。\n",
    "しかし、XORは一本の線で表現できない、つまり非線形である。\n"
   ]
  },
  {
   "cell_type": "code",
   "execution_count": 45,
   "metadata": {},
   "outputs": [
    {
     "data": {
      "text/plain": [
       "<matplotlib.collections.PolyCollection at 0x1162b7f60>"
      ]
     },
     "execution_count": 45,
     "metadata": {},
     "output_type": "execute_result"
    },
    {
     "data": {
      "image/png": "[encoded data removed]",
      "text/plain": [
       "<Figure size 432x288 with 1 Axes>"
      ]
     },
     "metadata": {
      "needs_background": "light"
     },
     "output_type": "display_data"
    }
   ],
   "source": [
    "import matplotlib.pylab as plt\n",
    "import numpy as np\n",
    "%matplotlib inline\n",
    "bias=.5\n",
    "#plt.plot([0,1,0,1],[0,0,1,1],'o')\n",
    "plt.plot([1,0],[0,1],'r+')\n",
    "plt.plot([0,1],[0,1],'bx')\n",
    "x1=np.linspace(-1,1,100)\n",
    "x2=-x1+bias\n",
    "plt.plot(x1,x2)\n",
    "plt.fill_between( x1, x2,-bias*np.ones(100), facecolor='yellow', alpha=0.3 )"
   ]
  },
  {
   "cell_type": "markdown",
   "metadata": {},
   "source": [
    "## 多層パーセプトロン\n",
    "\n",
    "解決するために多層にする。\n",
    "```python\n",
    " (x1,x2)->(NAND+OR) - > AND = XOR\n",
    " ```"
   ]
  },
  {
   "cell_type": "code",
   "execution_count": 41,
   "metadata": {},
   "outputs": [
    {
     "name": "stdout",
     "output_type": "stream",
     "text": [
      "x1:   0    x2:   0   retrun: 0\n",
      "x1:   0    x2:   1   retrun: 1\n",
      "x1:   1    x2:   0   retrun: 1\n",
      "x1:   1    x2:   1   retrun: 0\n"
     ]
    }
   ],
   "source": [
    "def AND(x1,x2):\n",
    "    return Logical(x1,x2)\n",
    "def NAND(x1,x2):\n",
    "    return Logical(x1,x2,w1=-.5,w2=-.5,b=.7)\n",
    "def OR(x1,x2):\n",
    "    return Logical(x1,x2,b=-.2)\n",
    "\n",
    "def XOR(x1,x2):\n",
    "    s1=NAND(x1,x2)\n",
    "    s2=OR(x1,x2)\n",
    "    return AND(s1,s2)\n",
    "\n",
    "\n",
    "for x1 in [0,1]:\n",
    "    for x2 in [0,1]:\n",
    "        print('x1:  ',x1,'   x2:  ',x2,'  retrun:',  XOR(x1,x2))"
   ]
  },
  {
   "cell_type": "code",
   "execution_count": null,
   "metadata": {},
   "outputs": [],
   "source": []
  }
 ],
 "metadata": {
  "kernelspec": {
   "display_name": "Python 3",
   "language": "python",
   "name": "python3"
  },
  "language_info": {
   "codemirror_mode": {
    "name": "ipython",
    "version": 3
   },
   "file_extension": ".py",
   "mimetype": "text/x-python",
   "name": "python",
   "nbconvert_exporter": "python",
   "pygments_lexer": "ipython3",
   "version": "3.7.1"
  }
 },
 "nbformat": 4,
 "nbformat_minor": 2
}
