{
 "cells": [
  {
   "cell_type": "markdown",
   "metadata": {},
   "source": [
    "# Dynamic Mode Decomposition\n",
    "\n",
    "このノートでは **Dynamic Mode Decomposition, or DMD** について説明する。\n",
    "DMDは結果データから力学系をモード分解する方法である。\n",
    "\n",
    "このノートでは\n",
    "- 理論的な背景\n",
    "- 理論を理解するための数学の説明\n",
    "- サンプルコードでの確認\n",
    "\n",
    "を中心に記述する。\n"
   ]
  },
  {
   "cell_type": "markdown",
   "metadata": {},
   "source": [
    "## 力学系\n",
    "**力学系**とは、系の状態($\\vec{x}$)がある一定のルール($f$)に従って時間発展する系を指す。\n",
    "\n",
    "$$\n",
    "\\frac{d\\vec{x}}{dt}=f(t,\\vec{x})\n",
    "$$\n",
    "\n",
    "このルールに従って発展する系を$\\Delta t$ごとに測定し、$x_{i}, i=(0,1,...n)$という値を得たとする。\n",
    "このデータから力学系を表現すると、\n",
    "$$\n",
    "x_{n+1}=x(t_{n}+\\Delta t)=\\mathbf{F}(x(t_{n}))=\\mathbf{F}(x_{n})\n",
    "$$"
   ]
  },
  {
   "cell_type": "code",
   "execution_count": null,
   "metadata": {},
   "outputs": [],
   "source": []
  },
  {
   "cell_type": "code",
   "execution_count": null,
   "metadata": {},
   "outputs": [],
   "source": []
  },
  {
   "cell_type": "code",
   "execution_count": null,
   "metadata": {},
   "outputs": [],
   "source": []
  },
  {
   "cell_type": "code",
   "execution_count": null,
   "metadata": {},
   "outputs": [],
   "source": []
  },
  {
   "cell_type": "code",
   "execution_count": null,
   "metadata": {},
   "outputs": [],
   "source": []
  }
 ],
 "metadata": {
  "kernelspec": {
   "display_name": "Python 2",
   "language": "python",
   "name": "python2"
  },
  "language_info": {
   "codemirror_mode": {
    "name": "ipython",
    "version": 2
   },
   "file_extension": ".py",
   "mimetype": "text/x-python",
   "name": "python",
   "nbconvert_exporter": "python",
   "pygments_lexer": "ipython2",
   "version": "2.7.15"
  }
 },
 "nbformat": 4,
 "nbformat_minor": 2
}
